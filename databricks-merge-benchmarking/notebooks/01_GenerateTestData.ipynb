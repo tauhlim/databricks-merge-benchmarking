{
 "cells": [
  {
   "cell_type": "code",
   "execution_count": 0,
   "metadata": {
    "application/vnd.databricks.v1+cell": {
     "cellMetadata": {
      "byteLimit": 2048000,
      "rowLimit": 10000
     },
     "inputWidgets": {},
     "nuid": "0efd1bd5-bc59-4c45-ac97-f13c7c7aa15a",
     "showTitle": false,
     "tableResultSettingsMap": {},
     "title": ""
    }
   },
   "outputs": [],
   "source": [
    "dbutils.widgets.dropdown(\"generate_data\", \"No\", ['Yes', 'No'])\n",
    "generate_data = dbutils.widgets.get(\"generate_data\") == \"Yes\"\n",
    "\n",
    "dbutils.widgets.dropdown(\"resample_data\", \"No\", [\"Yes\", \"No\"])\n",
    "resample_data = dbutils.widgets.get(\"resample_data\") == \"Yes\""
   ]
  },
  {
   "cell_type": "markdown",
   "metadata": {
    "application/vnd.databricks.v1+cell": {
     "cellMetadata": {},
     "inputWidgets": {},
     "nuid": "89420dc3-1e90-4431-ae83-1daf8b2825e5",
     "showTitle": false,
     "tableResultSettingsMap": {},
     "title": ""
    }
   },
   "source": [
    "\n",
    "# Generate Test Data for Benchmarking\n",
    "\n",
    "This notebook generates a bunch of test data, based on the `samples.nyctaxi.trips` dataset.\n",
    "\n",
    "For reference, using the following parameters, the data generation took about 90 minutes.\n",
    "\n",
    "* `target_data_size`: `1000` (MB)\n",
    "* `source_data_size`: `50` (MB)\n",
    "* `number_of_tables`: `20` \n",
    "* `number_of_updates`: `50` (50 updates per table = 1000 updates)"
   ]
  },
  {
   "cell_type": "code",
   "execution_count": 0,
   "metadata": {
    "application/vnd.databricks.v1+cell": {
     "cellMetadata": {
      "byteLimit": 2048000,
      "rowLimit": 10000
     },
     "inputWidgets": {},
     "nuid": "593b8314-5126-4c6b-89ee-d9372bf06a89",
     "showTitle": false,
     "tableResultSettingsMap": {},
     "title": ""
    }
   },
   "outputs": [],
   "source": [
    "dbutils.widgets.text(\"target_data_size\", \"50000\", \"Size of Target Table (MB)\")\n",
    "dbutils.widgets.text(\"source_data_size\", \"1000\", \"Size of Incremental Source Data (MB)\")\n",
    "dbutils.widgets.text(\"number_of_tables\", \"20\", \"Number of target tables to generate\")\n",
    "dbutils.widgets.text(\"number_of_updates\", \"50\", \"Number of source tables (per target)\")\n",
    "\n",
    "dbutils.widgets.text(\"catalog\", \"field_demos\", \"Catalog to use\")\n",
    "dbutils.widgets.text(\"schema\", \"tauherng\", \"Schema to use\")\n",
    "dbutils.widgets.text(\"target_table_prefix\", \"merge\", \"Table Prefix to use\")\n",
    "\n",
    "NUM_TABLES_TO_GENERATE = int(dbutils.widgets.get(\"number_of_tables\"))\n",
    "NUM_UPDATES_TO_GENERATE = int(dbutils.widgets.get(\"number_of_updates\"))\n",
    "TARGET_DATA_SIZE = int(dbutils.widgets.get(\"target_data_size\"))\n",
    "SOURCE_DATA_SIZE = int(dbutils.widgets.get(\"source_data_size\"))\n",
    "CATALOG = dbutils.widgets.get(\"catalog\")\n",
    "SCHEMA = dbutils.widgets.get(\"schema\")\n",
    "TABLE_PREFIX = dbutils.widgets.get(\"target_table_prefix\")"
   ]
  },
  {
   "cell_type": "code",
   "execution_count": 0,
   "metadata": {
    "application/vnd.databricks.v1+cell": {
     "cellMetadata": {
      "byteLimit": 2048000,
      "rowLimit": 10000
     },
     "inputWidgets": {},
     "nuid": "37ab8383-7feb-44f2-b7e0-615f2d644bd5",
     "showTitle": false,
     "tableResultSettingsMap": {},
     "title": ""
    }
   },
   "outputs": [],
   "source": [
    "from pyspark.sql import functions as F\n",
    "import json"
   ]
  },
  {
   "cell_type": "code",
   "execution_count": 0,
   "metadata": {
    "application/vnd.databricks.v1+cell": {
     "cellMetadata": {
      "byteLimit": 2048000,
      "implicitDf": true,
      "rowLimit": 10000
     },
     "inputWidgets": {},
     "nuid": "6931f330-1af6-418a-86b5-0019c5afd4bf",
     "showTitle": false,
     "tableResultSettingsMap": {},
     "title": ""
    }
   },
   "outputs": [],
   "source": [
    "%sql\n",
    "CREATE CATALOG IF NOT EXISTS IDENTIFIER(:catalog);\n",
    "CREATE SCHEMA IF NOT EXISTS IDENTIFIER(CONCAT(:catalog, \".\", :schema))"
   ]
  },
  {
   "cell_type": "code",
   "execution_count": 0,
   "metadata": {
    "application/vnd.databricks.v1+cell": {
     "cellMetadata": {
      "byteLimit": 2048000,
      "rowLimit": 10000
     },
     "inputWidgets": {},
     "nuid": "7d98be98-cb4d-4161-a20c-507ad93b1be8",
     "showTitle": false,
     "tableResultSettingsMap": {},
     "title": ""
    }
   },
   "outputs": [],
   "source": [
    "df_size_mb = spark.sql(\"describe detail samples.nyctaxi.trips\").select(\"sizeInBytes\").collect()[0][0]/1024/1024"
   ]
  },
  {
   "cell_type": "code",
   "execution_count": 0,
   "metadata": {
    "application/vnd.databricks.v1+cell": {
     "cellMetadata": {
      "byteLimit": 2048000,
      "rowLimit": 10000
     },
     "inputWidgets": {},
     "nuid": "e9e783f1-7579-43c4-9258-a03ae6b01973",
     "showTitle": false,
     "tableResultSettingsMap": {},
     "title": ""
    }
   },
   "outputs": [],
   "source": [
    "original_df = spark.read.table(\"samples.nyctaxi.trips\")"
   ]
  },
  {
   "cell_type": "code",
   "execution_count": 0,
   "metadata": {
    "application/vnd.databricks.v1+cell": {
     "cellMetadata": {
      "byteLimit": 2048000,
      "rowLimit": 10000
     },
     "inputWidgets": {},
     "nuid": "1b3addb3-3c9d-49b2-898e-a41f8cf4ad5c",
     "showTitle": false,
     "tableResultSettingsMap": {},
     "title": ""
    }
   },
   "outputs": [],
   "source": [
    "num_duplications = int(TARGET_DATA_SIZE/df_size_mb)"
   ]
  },
  {
   "cell_type": "code",
   "execution_count": 0,
   "metadata": {
    "application/vnd.databricks.v1+cell": {
     "cellMetadata": {},
     "inputWidgets": {},
     "nuid": "a714386e-c72a-4a6d-ad53-8e283093cff5",
     "showTitle": false,
     "tableResultSettingsMap": {},
     "title": ""
    }
   },
   "outputs": [],
   "source": [
    "# Keep track of created tables so we can duplicate them for serverless & classic\n",
    "created_tables = []"
   ]
  },
  {
   "cell_type": "code",
   "execution_count": 0,
   "metadata": {
    "application/vnd.databricks.v1+cell": {
     "cellMetadata": {
      "byteLimit": 2048000,
      "rowLimit": 10000
     },
     "inputWidgets": {},
     "nuid": "6613fff6-e6b0-4ea5-a23b-25911cc143fd",
     "showTitle": true,
     "tableResultSettingsMap": {},
     "title": "Generate the target tables"
    }
   },
   "outputs": [],
   "source": [
    "if dbutils.widgets.get(\"generate_data\") == \"Yes\":\n",
    "  print(\"Generating data\")\n",
    "  # Generate the data\n",
    "  first_table_name = f\"{CATALOG}.{SCHEMA}.{TABLE_PREFIX}_target_table_0\"\n",
    "  spark.sql(f\"DROP TABLE IF EXISTS {first_table_name}\")\n",
    "  spark.sql(f\"CREATE TABLE {first_table_name}\")\n",
    "  table_dupes = 1\n",
    "  original_df.write.mode(\"append\").option('mergeSchema', \"true\").saveAsTable(first_table_name)\n",
    "  while table_dupes < num_duplications:\n",
    "    df = spark.read.table(first_table_name)\n",
    "    df.write.mode(\"append\").option('mergeSchema', \"true\").saveAsTable(first_table_name)\n",
    "    table_dupes = table_dupes * 2\n",
    "    print(table_dupes)\n",
    "\n",
    "  for table_num in range(NUM_TABLES_TO_GENERATE):\n",
    "    table_name = f\"{CATALOG}.{SCHEMA}.{TABLE_PREFIX}_target_table_{table_num+1}\"\n",
    "    spark.sql(f\"DROP TABLE IF EXISTS {table_name}\")\n",
    "    df = spark.read.table(first_table_name).withColumn(\"uuid\", F.expr(\"uuid()\"))\n",
    "    # Just re-use the same data, but re-generate all UUIDs\n",
    "    df.write.mode(\"append\").option('mergeSchema', \"true\").saveAsTable(table_name)\n",
    "    created_tables += [table_name]\n",
    "\n",
    "  spark.sql(f\"DROP TABLE {first_table_name}\") # We don't need this anymore. Save space\n",
    "\n",
    "  with open(\"created_tables.json\", \"w\") as final:\n",
    "    json.dump(created_tables, final)"
   ]
  },
  {
   "cell_type": "code",
   "execution_count": 0,
   "metadata": {
    "application/vnd.databricks.v1+cell": {
     "cellMetadata": {
      "byteLimit": 2048000,
      "rowLimit": 10000
     },
     "inputWidgets": {},
     "nuid": "dc76cd8d-022f-437f-ae01-a7b29034f1eb",
     "showTitle": true,
     "tableResultSettingsMap": {},
     "title": "Generate the source updates"
    }
   },
   "outputs": [],
   "source": [
    "# Now we randomly pick some of the target data to update and save as an incremental source\n",
    "\n",
    "if resample_data:\n",
    "  for table_num in range(NUM_TABLES_TO_GENERATE):\n",
    "    target_table_name = f\"{CATALOG}.{SCHEMA}.{TABLE_PREFIX}_target_table_{table_num+1}\"\n",
    "    for update_num in range(NUM_UPDATES_TO_GENERATE):\n",
    "      source_table_name = f\"{CATALOG}.{SCHEMA}.{TABLE_PREFIX}_source_table_{table_num+1}_{update_num+1}\"\n",
    "      target_df = spark.read.table(target_table_name)\n",
    "      frac_updates = SOURCE_DATA_SIZE/TARGET_DATA_SIZE\n",
    "      source_df = target_df.sample(fraction = frac_updates)\n",
    "      source_df = source_df.withColumn(\"pickup_zip\", F.col(\"pickup_zip\")+1).withColumn(\"dropoff_zip\", F.col(\"dropoff_zip\")-1)\n",
    "      source_df.write.mode(\"overwrite\").saveAsTable(source_table_name)"
   ]
  },
  {
   "cell_type": "code",
   "execution_count": 0,
   "metadata": {
    "application/vnd.databricks.v1+cell": {
     "cellMetadata": {},
     "inputWidgets": {},
     "nuid": "2b411781-0023-4187-9816-a505fa947d45",
     "showTitle": false,
     "tableResultSettingsMap": {},
     "title": ""
    }
   },
   "outputs": [],
   "source": []
  }
 ],
 "metadata": {
  "application/vnd.databricks.v1+notebook": {
   "computePreferences": {
    "hardware": {
     "accelerator": null,
     "gpuPoolId": null,
     "memory": null
    }
   },
   "dashboards": [],
   "environmentMetadata": {
    "base_environment": "",
    "environment_version": "2"
   },
   "inputWidgetPreferences": null,
   "language": "python",
   "notebookMetadata": {
    "mostRecentlyExecutedCommandWithImplicitDF": {
     "commandId": 6397979369245314,
     "dataframes": [
      "_sqldf"
     ]
    },
    "pythonIndentUnit": 2,
    "widgetLayout": [
     {
      "breakBefore": false,
      "name": "catalog",
      "width": 176
     },
     {
      "breakBefore": false,
      "name": "schema",
      "width": 176
     },
     {
      "breakBefore": false,
      "name": "target_table_prefix",
      "width": 176
     },
     {
      "breakBefore": false,
      "name": "number_of_tables",
      "width": 176
     },
     {
      "breakBefore": false,
      "name": "target_data_size",
      "width": 176
     },
     {
      "breakBefore": false,
      "name": "number_of_updates",
      "width": 176
     },
     {
      "breakBefore": false,
      "name": "source_data_size",
      "width": 176
     }
    ]
   },
   "notebookName": "01_GenerateTestData",
   "widgets": {
    "catalog": {
     "currentValue": "field_demos",
     "nuid": "4cafe7e5-4afe-40e9-a3b0-024a7e62b6a6",
     "typedWidgetInfo": {
      "autoCreated": false,
      "defaultValue": "field_demos",
      "label": "Catalog to use",
      "name": "catalog",
      "options": {
       "widgetDisplayType": "Text",
       "validationRegex": null
      },
      "parameterDataType": "String"
     },
     "widgetInfo": {
      "widgetType": "text",
      "defaultValue": "field_demos",
      "label": "Catalog to use",
      "name": "catalog",
      "options": {
       "widgetType": "text",
       "autoCreated": null,
       "validationRegex": null
      }
     }
    },
    "generate_data": {
     "currentValue": "No",
     "nuid": "369f1858-4587-4e42-ace4-2145e1181e06",
     "typedWidgetInfo": {
      "autoCreated": false,
      "defaultValue": "No",
      "label": null,
      "name": "generate_data",
      "options": {
       "widgetDisplayType": "Dropdown",
       "choices": [
        "Yes",
        "No"
       ],
       "fixedDomain": true,
       "multiselect": false
      },
      "parameterDataType": "String"
     },
     "widgetInfo": {
      "widgetType": "dropdown",
      "defaultValue": "No",
      "label": null,
      "name": "generate_data",
      "options": {
       "widgetType": "dropdown",
       "autoCreated": null,
       "choices": [
        "Yes",
        "No"
       ]
      }
     }
    },
    "number_of_tables": {
     "currentValue": "20",
     "nuid": "c0925213-bda0-459c-94cc-21ccefbb445c",
     "typedWidgetInfo": {
      "autoCreated": false,
      "defaultValue": "20",
      "label": "Number of target tables to generate",
      "name": "number_of_tables",
      "options": {
       "widgetDisplayType": "Text",
       "validationRegex": null
      },
      "parameterDataType": "String"
     },
     "widgetInfo": {
      "widgetType": "text",
      "defaultValue": "20",
      "label": "Number of target tables to generate",
      "name": "number_of_tables",
      "options": {
       "widgetType": "text",
       "autoCreated": null,
       "validationRegex": null
      }
     }
    },
    "number_of_updates": {
     "currentValue": "50",
     "nuid": "09b9afe2-7857-42fb-ad91-cee666352f7f",
     "typedWidgetInfo": {
      "autoCreated": false,
      "defaultValue": "50",
      "label": "Number of source tables (per target)",
      "name": "number_of_updates",
      "options": {
       "widgetDisplayType": "Text",
       "validationRegex": null
      },
      "parameterDataType": "String"
     },
     "widgetInfo": {
      "widgetType": "text",
      "defaultValue": "50",
      "label": "Number of source tables (per target)",
      "name": "number_of_updates",
      "options": {
       "widgetType": "text",
       "autoCreated": null,
       "validationRegex": null
      }
     }
    },
    "resample_data": {
     "currentValue": "No",
     "nuid": "3272bcf8-9823-42ea-bb0b-d05b8722a8ad",
     "typedWidgetInfo": {
      "autoCreated": false,
      "defaultValue": "No",
      "label": null,
      "name": "resample_data",
      "options": {
       "widgetDisplayType": "Dropdown",
       "choices": [
        "Yes",
        "No"
       ],
       "fixedDomain": true,
       "multiselect": false
      },
      "parameterDataType": "String"
     },
     "widgetInfo": {
      "widgetType": "dropdown",
      "defaultValue": "No",
      "label": null,
      "name": "resample_data",
      "options": {
       "widgetType": "dropdown",
       "autoCreated": false,
       "choices": [
        "Yes",
        "No"
       ]
      }
     }
    },
    "schema": {
     "currentValue": "tauherng_merge_benchmarking",
     "nuid": "555cb562-4d80-4c15-a274-60a4f1a32118",
     "typedWidgetInfo": {
      "autoCreated": false,
      "defaultValue": "tauherng",
      "label": "Schema to use",
      "name": "schema",
      "options": {
       "widgetDisplayType": "Text",
       "validationRegex": null
      },
      "parameterDataType": "String"
     },
     "widgetInfo": {
      "widgetType": "text",
      "defaultValue": "tauherng",
      "label": "Schema to use",
      "name": "schema",
      "options": {
       "widgetType": "text",
       "autoCreated": null,
       "validationRegex": null
      }
     }
    },
    "source_data_size": {
     "currentValue": "50",
     "nuid": "8e24b327-f7f0-4d12-b168-95ed9944f206",
     "typedWidgetInfo": {
      "autoCreated": false,
      "defaultValue": "1000",
      "label": "Size of Incremental Source Data (MB)",
      "name": "source_data_size",
      "options": {
       "widgetDisplayType": "Text",
       "validationRegex": null
      },
      "parameterDataType": "String"
     },
     "widgetInfo": {
      "widgetType": "text",
      "defaultValue": "1000",
      "label": "Size of Incremental Source Data (MB)",
      "name": "source_data_size",
      "options": {
       "widgetType": "text",
       "autoCreated": null,
       "validationRegex": null
      }
     }
    },
    "target_data_size": {
     "currentValue": "1000",
     "nuid": "522fc300-dde3-4872-b32d-f5d91fa2c259",
     "typedWidgetInfo": {
      "autoCreated": false,
      "defaultValue": "50000",
      "label": "Size of Target Table (MB)",
      "name": "target_data_size",
      "options": {
       "widgetDisplayType": "Text",
       "validationRegex": null
      },
      "parameterDataType": "String"
     },
     "widgetInfo": {
      "widgetType": "text",
      "defaultValue": "50000",
      "label": "Size of Target Table (MB)",
      "name": "target_data_size",
      "options": {
       "widgetType": "text",
       "autoCreated": null,
       "validationRegex": null
      }
     }
    },
    "target_table_prefix": {
     "currentValue": "merge",
     "nuid": "d03ead9d-b309-4a84-a48b-53aefa0c7348",
     "typedWidgetInfo": {
      "autoCreated": false,
      "defaultValue": "merge",
      "label": "Table Prefix to use",
      "name": "target_table_prefix",
      "options": {
       "widgetDisplayType": "Text",
       "validationRegex": null
      },
      "parameterDataType": "String"
     },
     "widgetInfo": {
      "widgetType": "text",
      "defaultValue": "merge",
      "label": "Table Prefix to use",
      "name": "target_table_prefix",
      "options": {
       "widgetType": "text",
       "autoCreated": null,
       "validationRegex": null
      }
     }
    }
   }
  },
  "language_info": {
   "name": "python"
  }
 },
 "nbformat": 4,
 "nbformat_minor": 0
}
