{
 "cells": [
  {
   "cell_type": "code",
   "execution_count": 0,
   "metadata": {
    "application/vnd.databricks.v1+cell": {
     "cellMetadata": {
      "byteLimit": 2048000,
      "rowLimit": 10000
     },
     "inputWidgets": {},
     "nuid": "c76d6579-6d94-4b36-9c93-a125323511b5",
     "showTitle": false,
     "tableResultSettingsMap": {},
     "title": ""
    }
   },
   "outputs": [],
   "source": [
    "dbutils.widgets.text(\"table_number\", \"1\", \"Which target table to update\")\n",
    "dbutils.widgets.text(\"number_of_updates\", \"50\", \"Number of source tables (per target)\")\n",
    "dbutils.widgets.dropdown('run_type', \"serverless\", [\"serverless\", \"classic\"])\n",
    "\n",
    "dbutils.widgets.text(\"catalog\", \"field_demos\", \"Catalog to use\")\n",
    "dbutils.widgets.text(\"schema\", \"tauherng_merge_benchmarking\", \"Schema to use\")\n",
    "dbutils.widgets.text(\"target_table_prefix\", \"merge\", \"Table Prefix to use\")\n",
    "\n",
    "TARGET_TABLE = int(dbutils.widgets.get(\"table_number\"))\n",
    "NUM_UPDATES_TO_GENERATE = int(dbutils.widgets.get(\"number_of_updates\"))\n",
    "TARGET_DATA_SIZE = int(dbutils.widgets.get(\"target_data_size\"))\n",
    "SOURCE_DATA_SIZE = int(dbutils.widgets.get(\"source_data_size\"))\n",
    "CATALOG = dbutils.widgets.get(\"catalog\")\n",
    "\n",
    "TARGET_SCHEMA = f\"{dbutils.widgets.get('schema')}_{dbutils.widgets.get('run_type')}\"\n",
    "SOURCE_SCHEMA = f\"{dbutils.widgets.get('schema')}\"\n",
    "\n",
    "TABLE_PREFIX = dbutils.widgets.get(\"target_table_prefix\")"
   ]
  },
  {
   "cell_type": "code",
   "execution_count": 0,
   "metadata": {
    "application/vnd.databricks.v1+cell": {
     "cellMetadata": {},
     "inputWidgets": {},
     "nuid": "77f5d14a-3efa-4656-9fb7-71365f8a97cb",
     "showTitle": false,
     "tableResultSettingsMap": {},
     "title": ""
    }
   },
   "outputs": [],
   "source": [
    "target_table_name = f\"{CATALOG}.{TARGET_SCHEMA}.{TABLE_PREFIX}_target_table_{TARGET_TABLE}\"\n",
    "for update_num in range(NUM_UPDATES_TO_GENERATE):\n",
    "    source_table_name = f\"{CATALOG}.{SOURCE_SCHEMA}.{TABLE_PREFIX}_source_table_{TARGET_TABLE}_{update_num+1}\"\n",
    "    spark.sql(\n",
    "        f\"\"\"\n",
    "        MERGE INTO {target_table_name} target USING {source_table_name} source\n",
    "        ON target.uuid = source.uuid\n",
    "        WHEN MATCHED THEN UPDATE SET *\n",
    "        WHEN NOT MATCHED THEN INSERT *\n",
    "        \"\"\"\n",
    "    )"
   ]
  },
  {
   "cell_type": "code",
   "execution_count": 0,
   "metadata": {
    "application/vnd.databricks.v1+cell": {
     "cellMetadata": {},
     "inputWidgets": {},
     "nuid": "4aab2233-7ed7-45c6-b32b-068fe095b496",
     "showTitle": false,
     "tableResultSettingsMap": {},
     "title": ""
    }
   },
   "outputs": [],
   "source": [
    "\n"
   ]
  }
 ],
 "metadata": {
  "application/vnd.databricks.v1+notebook": {
   "computePreferences": null,
   "dashboards": [],
   "environmentMetadata": {
    "base_environment": "",
    "environment_version": "2"
   },
   "inputWidgetPreferences": null,
   "language": "python",
   "notebookMetadata": {
    "pythonIndentUnit": 2,
    "widgetLayout": [
     {
      "breakBefore": false,
      "name": "catalog",
      "width": 176
     },
     {
      "breakBefore": false,
      "name": "schema",
      "width": 176
     },
     {
      "breakBefore": false,
      "name": "target_table_prefix",
      "width": 176
     },
     {
      "breakBefore": false,
      "name": "source_data_size",
      "width": 176
     },
     {
      "breakBefore": false,
      "name": "target_data_size",
      "width": 176
     },
     {
      "breakBefore": false,
      "name": "number_of_updates",
      "width": 176
     },
     {
      "breakBefore": false,
      "name": "number_of_tables",
      "width": 176
     }
    ]
   },
   "notebookName": "02_RunMerge",
   "widgets": {
    "catalog": {
     "currentValue": "field_demos",
     "nuid": "d9e25c2e-cfaa-4c67-bd0b-429d94163856",
     "typedWidgetInfo": {
      "autoCreated": false,
      "defaultValue": "field_demos",
      "label": "Catalog to use",
      "name": "catalog",
      "options": {
       "widgetDisplayType": "Text",
       "validationRegex": null
      },
      "parameterDataType": "String"
     },
     "widgetInfo": {
      "widgetType": "text",
      "defaultValue": "field_demos",
      "label": "Catalog to use",
      "name": "catalog",
      "options": {
       "widgetType": "text",
       "autoCreated": null,
       "validationRegex": null
      }
     }
    },
    "number_of_updates": {
     "currentValue": "50",
     "nuid": "cbc75886-d956-4a7b-af40-7b6def24844c",
     "typedWidgetInfo": {
      "autoCreated": false,
      "defaultValue": "50",
      "label": "Number of source tables (per target)",
      "name": "number_of_updates",
      "options": {
       "widgetDisplayType": "Text",
       "validationRegex": null
      },
      "parameterDataType": "String"
     },
     "widgetInfo": {
      "widgetType": "text",
      "defaultValue": "50",
      "label": "Number of source tables (per target)",
      "name": "number_of_updates",
      "options": {
       "widgetType": "text",
       "autoCreated": null,
       "validationRegex": null
      }
     }
    },
    "run_type": {
     "currentValue": "serverless",
     "nuid": "eb22c85a-4ef5-4e86-ae56-2ede4e5ca1e2",
     "typedWidgetInfo": {
      "autoCreated": false,
      "defaultValue": "serverless",
      "label": null,
      "name": "run_type",
      "options": {
       "widgetDisplayType": "Dropdown",
       "choices": [
        "serverless",
        "classic"
       ],
       "fixedDomain": true,
       "multiselect": false
      },
      "parameterDataType": "String"
     },
     "widgetInfo": {
      "widgetType": "dropdown",
      "defaultValue": "serverless",
      "label": null,
      "name": "run_type",
      "options": {
       "widgetType": "dropdown",
       "autoCreated": false,
       "choices": [
        "serverless",
        "classic"
       ]
      }
     }
    },
    "schema": {
     "currentValue": "tauherng_merge_benchmarking",
     "nuid": "a1cbca4d-582f-4389-8908-46bac7e4ed9c",
     "typedWidgetInfo": {
      "autoCreated": false,
      "defaultValue": "tauherng_merge_benchmarking",
      "label": "Schema to use",
      "name": "schema",
      "options": {
       "widgetDisplayType": "Text",
       "validationRegex": null
      },
      "parameterDataType": "String"
     },
     "widgetInfo": {
      "widgetType": "text",
      "defaultValue": "tauherng_merge_benchmarking",
      "label": "Schema to use",
      "name": "schema",
      "options": {
       "widgetType": "text",
       "autoCreated": null,
       "validationRegex": null
      }
     }
    },
    "table_number": {
     "currentValue": "1",
     "nuid": "3db78ecd-ce68-4758-9922-f34dbb721dea",
     "typedWidgetInfo": {
      "autoCreated": false,
      "defaultValue": "1",
      "label": "Which target table to update",
      "name": "table_number",
      "options": {
       "widgetDisplayType": "Text",
       "validationRegex": null
      },
      "parameterDataType": "String"
     },
     "widgetInfo": {
      "widgetType": "text",
      "defaultValue": "1",
      "label": "Which target table to update",
      "name": "table_number",
      "options": {
       "widgetType": "text",
       "autoCreated": null,
       "validationRegex": null
      }
     }
    },
    "target_table_prefix": {
     "currentValue": "merge",
     "nuid": "a9fa9510-84e5-4313-b928-f367919c23fb",
     "typedWidgetInfo": {
      "autoCreated": false,
      "defaultValue": "merge",
      "label": "Table Prefix to use",
      "name": "target_table_prefix",
      "options": {
       "widgetDisplayType": "Text",
       "validationRegex": null
      },
      "parameterDataType": "String"
     },
     "widgetInfo": {
      "widgetType": "text",
      "defaultValue": "merge",
      "label": "Table Prefix to use",
      "name": "target_table_prefix",
      "options": {
       "widgetType": "text",
       "autoCreated": null,
       "validationRegex": null
      }
     }
    }
   }
  },
  "language_info": {
   "name": "python"
  }
 },
 "nbformat": 4,
 "nbformat_minor": 0
}
